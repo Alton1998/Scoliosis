{
  "nbformat": 4,
  "nbformat_minor": 0,
  "metadata": {
    "colab": {
      "provenance": [],
      "authorship_tag": "ABX9TyOt1nr8VjIQzX4DbE16K0RV",
      "include_colab_link": true
    },
    "kernelspec": {
      "name": "python3",
      "display_name": "Python 3"
    },
    "language_info": {
      "name": "python"
    }
  },
  "cells": [
    {
      "cell_type": "markdown",
      "metadata": {
        "id": "view-in-github",
        "colab_type": "text"
      },
      "source": [
        "<a href=\"https://colab.research.google.com/github/Alton1998/Scoliosis/blob/main/ANN.ipynb\" target=\"_parent\"><img src=\"https://colab.research.google.com/assets/colab-badge.svg\" alt=\"Open In Colab\"/></a>"
      ]
    },
    {
      "cell_type": "code",
      "execution_count": 1,
      "metadata": {
        "id": "3b254rJcE9d_"
      },
      "outputs": [],
      "source": [
        "# imports\n",
        "import numpy as np\n",
        "import matplotlib.pyplot as plt\n",
        "import seaborn as sns\n",
        "import pickle\n",
        "import pandas as pd"
      ]
    },
    {
      "cell_type": "code",
      "source": [
        "X_train_reg = []\n",
        "X_test_reg = []\n",
        "X_val_reg = []\n",
        "y_train_reg = []\n",
        "y_test_reg = []\n",
        "y_val_reg = []\n",
        "with open(\"X_train_reg.pkl\",\"rb\") as f1, open(\"X_test_reg.pkl\",\"rb\") as f2, open(\"X_val_reg.pkl\",\"rb\") as f3, open(\"y_train_reg.pkl\",\"rb\") as f4, open(\"y_test_reg.pkl\",\"rb\") as f5, open(\"y_val_reg.pkl\",\"rb\") as f6:\n",
        "  X_train_reg = pickle.load(f1)\n",
        "  X_test_reg = pickle.load(f2)\n",
        "  X_val_reg = pickle.load(f3)\n",
        "  y_train_reg = pickle.load(f4)\n",
        "  y_test_reg = pickle.load(f5)\n",
        "  y_val_reg = pickle.load(f6)"
      ],
      "metadata": {
        "id": "48VlFMvWIlvU"
      },
      "execution_count": 2,
      "outputs": []
    },
    {
      "cell_type": "code",
      "source": [
        "X_train_reg = X_train_reg.values\n",
        "X_test_reg = X_test_reg.values\n",
        "X_val_reg = X_val_reg.values\n",
        "y_train_reg = y_train_reg.values\n",
        "y_test_reg = y_test_reg.values\n",
        "y_val_reg = y_val_reg.values"
      ],
      "metadata": {
        "id": "i4anSdPJIs2p"
      },
      "execution_count": 3,
      "outputs": []
    },
    {
      "cell_type": "code",
      "source": [
        "from sklearn.preprocessing import StandardScaler"
      ],
      "metadata": {
        "id": "-z0l2kSuIvhH"
      },
      "execution_count": 4,
      "outputs": []
    },
    {
      "cell_type": "code",
      "source": [
        "scaler = StandardScaler()"
      ],
      "metadata": {
        "id": "J2a-5d1YJFW9"
      },
      "execution_count": 5,
      "outputs": []
    },
    {
      "cell_type": "code",
      "source": [
        "# Scaling the data based on training\n",
        "X_train_reg = scaler.fit_transform(X_train_reg)\n",
        "X_test_reg = scaler.transform(X_test_reg)\n",
        "X_val_reg = scaler.transform(X_val_reg)"
      ],
      "metadata": {
        "id": "xDXlB8WnJIaS"
      },
      "execution_count": 6,
      "outputs": []
    },
    {
      "cell_type": "code",
      "source": [
        "from tensorflow.keras.models import Sequential"
      ],
      "metadata": {
        "id": "KX4oWIcgJNYm"
      },
      "execution_count": 7,
      "outputs": []
    },
    {
      "cell_type": "code",
      "source": [
        "\n",
        "from tensorflow.keras.layers import Dense, Dropout"
      ],
      "metadata": {
        "id": "v2b-zzc1JamW"
      },
      "execution_count": 8,
      "outputs": []
    },
    {
      "cell_type": "code",
      "source": [
        "from tensorflow.keras.callbacks import EarlyStopping"
      ],
      "metadata": {
        "id": "BTnPAHHzJe1H"
      },
      "execution_count": 9,
      "outputs": []
    },
    {
      "cell_type": "code",
      "source": [
        "early_stop = EarlyStopping(monitor=\"val_loss\", mode=\"min\", verbose=1, patience=5)"
      ],
      "metadata": {
        "id": "qQhKVSG9Jghd"
      },
      "execution_count": 10,
      "outputs": []
    },
    {
      "cell_type": "code",
      "source": [
        "model = Sequential()"
      ],
      "metadata": {
        "id": "uKx_25iKKVvW"
      },
      "execution_count": 11,
      "outputs": []
    },
    {
      "cell_type": "code",
      "source": [
        "model.add(Dense(28, activation=\"relu\"))"
      ],
      "metadata": {
        "id": "ssDqPMSFKgt5"
      },
      "execution_count": 12,
      "outputs": []
    },
    {
      "cell_type": "code",
      "source": [
        "model.add(Dropout(0.5))"
      ],
      "metadata": {
        "id": "TIVR2BCeKj8D"
      },
      "execution_count": 13,
      "outputs": []
    },
    {
      "cell_type": "code",
      "source": [
        "model.add(Dense(14, activation=\"relu\"))"
      ],
      "metadata": {
        "id": "3ZtbO1EYKmHI"
      },
      "execution_count": 14,
      "outputs": []
    },
    {
      "cell_type": "code",
      "source": [
        "model.add(Dropout(0.5))"
      ],
      "metadata": {
        "id": "8d5_7pjfK_Hb"
      },
      "execution_count": 15,
      "outputs": []
    },
    {
      "cell_type": "code",
      "source": [
        "model.add(Dense(7, activation=\"relu\"))"
      ],
      "metadata": {
        "id": "W8_6A4igLCnR"
      },
      "execution_count": 16,
      "outputs": []
    },
    {
      "cell_type": "code",
      "source": [
        "model.add(Dropout(0.5))"
      ],
      "metadata": {
        "id": "SD8LwhpMLGB2"
      },
      "execution_count": 17,
      "outputs": []
    },
    {
      "cell_type": "code",
      "source": [
        "model.add(Dense(1))"
      ],
      "metadata": {
        "id": "uInMs-oXLI6o"
      },
      "execution_count": 18,
      "outputs": []
    },
    {
      "cell_type": "code",
      "source": [
        "model.compile(loss=\"mse\", optimizer=\"adam\")"
      ],
      "metadata": {
        "id": "xVgJwQMuLRtg"
      },
      "execution_count": 19,
      "outputs": []
    },
    {
      "cell_type": "code",
      "source": [
        "model.fit(\n",
        "    x=X_train_reg,\n",
        "    y=y_train_reg,\n",
        "    epochs=600,\n",
        "    validation_data=(X_val_reg, y_val_reg),\n",
        "    batch_size=32,\n",
        "    callbacks=[early_stop],\n",
        ")"
      ],
      "metadata": {
        "colab": {
          "base_uri": "https://localhost:8080/"
        },
        "id": "n-Ic1nXHLshM",
        "outputId": "cc335fb7-a1ce-4a7c-f232-62f3a6400804"
      },
      "execution_count": 20,
      "outputs": [
        {
          "output_type": "stream",
          "name": "stdout",
          "text": [
            "Epoch 1/600\n",
            "4/4 [==============================] - 6s 215ms/step - loss: 52.8106 - val_loss: 70.5010\n",
            "Epoch 2/600\n",
            "4/4 [==============================] - 0s 35ms/step - loss: 49.0583 - val_loss: 70.5098\n",
            "Epoch 3/600\n",
            "4/4 [==============================] - 0s 53ms/step - loss: 52.2592 - val_loss: 70.5424\n",
            "Epoch 4/600\n",
            "4/4 [==============================] - 0s 56ms/step - loss: 50.3855 - val_loss: 70.5579\n",
            "Epoch 5/600\n",
            "4/4 [==============================] - 0s 55ms/step - loss: 53.5347 - val_loss: 70.5544\n",
            "Epoch 6/600\n",
            "4/4 [==============================] - 0s 31ms/step - loss: 51.2832 - val_loss: 70.5405\n",
            "Epoch 6: early stopping\n"
          ]
        },
        {
          "output_type": "execute_result",
          "data": {
            "text/plain": [
              "<keras.src.callbacks.History at 0x7a8e04c96f80>"
            ]
          },
          "metadata": {},
          "execution_count": 20
        }
      ]
    },
    {
      "cell_type": "code",
      "source": [
        "losses = pd.DataFrame(model.history.history)"
      ],
      "metadata": {
        "id": "0D-abvhcM4GD"
      },
      "execution_count": 21,
      "outputs": []
    },
    {
      "cell_type": "code",
      "source": [
        "\n",
        "losses.plot()"
      ],
      "metadata": {
        "colab": {
          "base_uri": "https://localhost:8080/",
          "height": 447
        },
        "id": "Rgl67SuMNLmL",
        "outputId": "5321f232-7662-42ff-c209-927cdd243196"
      },
      "execution_count": 22,
      "outputs": [
        {
          "output_type": "execute_result",
          "data": {
            "text/plain": [
              "<Axes: >"
            ]
          },
          "metadata": {},
          "execution_count": 22
        },
        {
          "output_type": "display_data",
          "data": {
            "text/plain": [
              "<Figure size 640x480 with 1 Axes>"
            ],
            "image/png": "[encoded data removed]"
          },
          "metadata": {}
        }
      ]
    },
    {
      "cell_type": "code",
      "source": [
        "y_test_pred = model.predict(X_test_reg)"
      ],
      "metadata": {
        "colab": {
          "base_uri": "https://localhost:8080/"
        },
        "id": "XjmiccazNQmj",
        "outputId": "886115ed-e8e6-430e-bf2e-ba4acf668fec"
      },
      "execution_count": 23,
      "outputs": [
        {
          "output_type": "stream",
          "name": "stdout",
          "text": [
            "2/2 [==============================] - 0s 12ms/step\n"
          ]
        }
      ]
    },
    {
      "cell_type": "code",
      "source": [
        "from sklearn.metrics import mean_absolute_error,mean_squared_error"
      ],
      "metadata": {
        "id": "goFAKHv8Nbaz"
      },
      "execution_count": 24,
      "outputs": []
    },
    {
      "cell_type": "code",
      "source": [
        "mean_absolute_error(y_test_reg,y_test_pred)"
      ],
      "metadata": {
        "colab": {
          "base_uri": "https://localhost:8080/"
        },
        "id": "OgNbJS47NXBw",
        "outputId": "9331e3c5-5611-451e-a268-bbd67f221688"
      },
      "execution_count": 25,
      "outputs": [
        {
          "output_type": "execute_result",
          "data": {
            "text/plain": [
              "6.301070249446158"
            ]
          },
          "metadata": {},
          "execution_count": 25
        }
      ]
    },
    {
      "cell_type": "code",
      "source": [
        "mean_squared_error(y_test_reg,y_test_pred)"
      ],
      "metadata": {
        "colab": {
          "base_uri": "https://localhost:8080/"
        },
        "id": "koTLMh6yNZFu",
        "outputId": "0cd8074f-aef1-4eeb-bf62-6085a1f54f98"
      },
      "execution_count": 26,
      "outputs": [
        {
          "output_type": "execute_result",
          "data": {
            "text/plain": [
              "67.5778607996506"
            ]
          },
          "metadata": {},
          "execution_count": 26
        }
      ]
    },
    {
      "cell_type": "code",
      "source": [],
      "metadata": {
        "id": "4P0f6Mx6OQGm"
      },
      "execution_count": 26,
      "outputs": []
    }
  ]
}